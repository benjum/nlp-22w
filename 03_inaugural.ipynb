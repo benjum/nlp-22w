{
 "cells": [
  {
   "cell_type": "markdown",
   "id": "2a82005b-9085-4223-af3f-b096ddb64615",
   "metadata": {},
   "source": [
    "# Using TF-IDF with Scikit-Learn\n",
    "* This notebook is mainly derived from Melanie Walsh and her wonderful JupyterBook on Cultural Analytics & Python.\n",
    "  * https://melaniewalsh.github.io/Intro-Cultural-Analytics/05-Text-Analysis/03-TF-IDF-Scikit-Learn.html"
   ]
  },
  {
   "cell_type": "markdown",
   "id": "a6be3dc1-8561-4162-8006-1ea396436260",
   "metadata": {},
   "source": [
    "## Scikit-learn"
   ]
  },
  {
   "cell_type": "markdown",
   "id": "a89847e9-c6f9-4481-81c3-d1ce0648649d",
   "metadata": {},
   "source": [
    "\"Scikit-learn is an open source machine learning library that supports supervised and unsupervised learning. It also provides various tools for model fitting, data preprocessing, model selection, model evaluation, and many other utilities.\" -- [scikit-learn webpage](https://scikit-learn.org/stable/)\n",
    "* scikit-learn and [Working with Text Data](https://scikit-learn.org/stable/tutorial/text_analytics/working_with_text_data.html)"
   ]
  },
  {
   "cell_type": "code",
   "execution_count": null,
   "id": "be364e11-4adb-4409-99e4-6534be8e7c16",
   "metadata": {},
   "outputs": [],
   "source": [
    "from sklearn.feature_extraction.text import TfidfVectorizer\n",
    "import pandas as pd\n",
    "from pathlib import Path  \n",
    "import glob"
   ]
  },
  {
   "cell_type": "code",
   "execution_count": null,
   "id": "33c8f861-c88e-4acb-b8bc-5697bd8a4f9c",
   "metadata": {},
   "outputs": [],
   "source": [
    "directory_path = \"US_Inaugural_Addresses/\""
   ]
  },
  {
   "cell_type": "code",
   "execution_count": null,
   "id": "c82c2d99-0a2b-4ab9-9117-62211d587947",
   "metadata": {},
   "outputs": [],
   "source": [
    "text_files = glob.glob(f\"{directory_path}/*.txt\")"
   ]
  },
  {
   "cell_type": "code",
   "execution_count": null,
   "id": "43027452-2a2f-490c-a244-105626131074",
   "metadata": {
    "tags": []
   },
   "outputs": [],
   "source": [
    "text_files"
   ]
  },
  {
   "cell_type": "code",
   "execution_count": null,
   "id": "ebd09be1-96f8-4178-9ed8-3991a0948345",
   "metadata": {},
   "outputs": [],
   "source": [
    "text_titles = [Path(text).stem for text in text_files]"
   ]
  },
  {
   "cell_type": "code",
   "execution_count": null,
   "id": "1810acc9-4135-44b3-ae2c-fcc29ae7c297",
   "metadata": {
    "tags": []
   },
   "outputs": [],
   "source": [
    "text_titles"
   ]
  },
  {
   "cell_type": "markdown",
   "id": "acfad8c5-f51f-4eee-8017-53855dc11470",
   "metadata": {},
   "source": [
    "## The VF-IDF step\n",
    "\n",
    "\"Convert a collection of raw documents to a matrix of TF-IDF features.\" with scikit-learn's [TfidfVectorizer](https://scikit-learn.org/stable/modules/generated/sklearn.feature_extraction.text.TfidfVectorizer.html)"
   ]
  },
  {
   "cell_type": "code",
   "execution_count": null,
   "id": "f801de68-682a-4f98-9999-98c34f95be3c",
   "metadata": {},
   "outputs": [],
   "source": [
    "tfidf_vectorizer = TfidfVectorizer(input='filename', stop_words='english')"
   ]
  },
  {
   "cell_type": "code",
   "execution_count": null,
   "id": "7209ecce-c1fa-4945-b016-2d7b1f8668ce",
   "metadata": {},
   "outputs": [],
   "source": [
    "tfidf_vector = tfidf_vectorizer.fit_transform(text_files)"
   ]
  },
  {
   "cell_type": "code",
   "execution_count": null,
   "id": "2be21c40-3e99-4f20-bb0e-ce0c757c840d",
   "metadata": {},
   "outputs": [],
   "source": [
    "tfidf_df = pd.DataFrame(tfidf_vector.toarray(), index=text_titles, columns=tfidf_vectorizer.get_feature_names())\n",
    "tfidf_df.loc['00_Document Frequency'] = (tfidf_df > 0).sum()"
   ]
  },
  {
   "cell_type": "code",
   "execution_count": null,
   "id": "16c8349e-a260-4b8c-a7be-af6c9614aea4",
   "metadata": {
    "tags": []
   },
   "outputs": [],
   "source": [
    "tfidf_slice = tfidf_df[['government', 'borders', 'people', 'obama', 'war', 'honor','foreign', 'men', 'women', 'children']]\n",
    "tfidf_slice.sort_index().round(decimals=2)"
   ]
  },
  {
   "cell_type": "code",
   "execution_count": null,
   "id": "09349f9e-f367-4610-9843-eb10490387a8",
   "metadata": {},
   "outputs": [],
   "source": [
    "tfidf_df = tfidf_df.drop('00_Document Frequency', errors='ignore')"
   ]
  },
  {
   "cell_type": "code",
   "execution_count": null,
   "id": "e1517a96-7344-4650-bbd9-7778eb137730",
   "metadata": {
    "tags": []
   },
   "outputs": [],
   "source": [
    "tfidf_df.stack().reset_index()"
   ]
  },
  {
   "cell_type": "code",
   "execution_count": null,
   "id": "4fefa576-fe8a-4b15-b0bc-fe2ed86a8c7c",
   "metadata": {},
   "outputs": [],
   "source": [
    "tfidf_df = tfidf_df.stack().reset_index()"
   ]
  },
  {
   "cell_type": "code",
   "execution_count": null,
   "id": "a24b8d1c-de5e-49ea-8fe0-48fbce1f754c",
   "metadata": {},
   "outputs": [],
   "source": [
    "tfidf_df = tfidf_df.rename(columns={0:'tfidf', \n",
    "                                    'level_0': 'document',\n",
    "                                    'level_1': 'term', \n",
    "                                    'level_2': 'term'})"
   ]
  },
  {
   "cell_type": "code",
   "execution_count": null,
   "id": "a5709dc0-ee5b-45b8-a092-f44763233a15",
   "metadata": {
    "tags": []
   },
   "outputs": [],
   "source": [
    "tfidf_df.sort_values(by=['document','tfidf'], ascending=[True,False]).groupby(['document']).head(10)"
   ]
  },
  {
   "cell_type": "code",
   "execution_count": null,
   "id": "27c319c7-c250-4091-8cef-95d0bf4f3d12",
   "metadata": {},
   "outputs": [],
   "source": [
    "top_tfidf = tfidf_df.sort_values(by=['document','tfidf'], ascending=[True,False]).groupby(['document']).head(10)"
   ]
  },
  {
   "cell_type": "code",
   "execution_count": null,
   "id": "2bf06bc1-832e-4c1b-afaa-2c8ccfb926a9",
   "metadata": {},
   "outputs": [],
   "source": [
    "top_tfidf[top_tfidf['term'].str.contains('women')]"
   ]
  },
  {
   "cell_type": "code",
   "execution_count": null,
   "id": "82b5a1c5-1037-4f6a-b167-7467fac6fdc8",
   "metadata": {},
   "outputs": [],
   "source": [
    "top_tfidf[top_tfidf['document'].str.contains('obama')]"
   ]
  },
  {
   "cell_type": "code",
   "execution_count": null,
   "id": "fb6801ab-164c-4732-ab7c-8c8956673349",
   "metadata": {},
   "outputs": [],
   "source": [
    "top_tfidf[top_tfidf['document'].str.contains('trump')]"
   ]
  },
  {
   "cell_type": "code",
   "execution_count": null,
   "id": "a1d8a3f1-1c99-445e-bb85-2de6a3aaf91b",
   "metadata": {},
   "outputs": [],
   "source": [
    "top_tfidf[top_tfidf['document'].str.contains('lincoln')]"
   ]
  },
  {
   "cell_type": "code",
   "execution_count": null,
   "id": "3de9157b-8b35-47a0-b1c9-cbf36acabcec",
   "metadata": {},
   "outputs": [],
   "source": [
    "# Don't worry about this code\n",
    "# This is to make a nice graphic of our results\n",
    "\n",
    "import altair as alt\n",
    "import numpy as np\n",
    "\n",
    "# Terms in this list will get a red dot in the visualization\n",
    "term_list = ['war', 'peace']\n",
    "\n",
    "# adding a little randomness to break ties in term ranking\n",
    "top_tfidf_plusRand = top_tfidf.copy()\n",
    "top_tfidf_plusRand['tfidf'] = top_tfidf_plusRand['tfidf'] + np.random.rand(top_tfidf.shape[0])*0.0001\n",
    "\n",
    "# base for all visualizations, with rank calculation\n",
    "base = alt.Chart(top_tfidf_plusRand).encode(\n",
    "    x = 'rank:O',\n",
    "    y = 'document:N'\n",
    ").transform_window(\n",
    "    rank = \"rank()\",\n",
    "    sort = [alt.SortField(\"tfidf\", order=\"descending\")],\n",
    "    groupby = [\"document\"],\n",
    ")\n",
    "\n",
    "# heatmap specification\n",
    "heatmap = base.mark_rect().encode(\n",
    "    color = 'tfidf:Q'\n",
    ")\n",
    "\n",
    "# red circle over terms in above list\n",
    "circle = base.mark_circle(size=100).encode(\n",
    "    color = alt.condition(\n",
    "        alt.FieldOneOfPredicate(field='term', oneOf=term_list),\n",
    "        alt.value('red'),\n",
    "        alt.value('#FFFFFF00')        \n",
    "    )\n",
    ")\n",
    "\n",
    "# text labels, white for darker heatmap colors\n",
    "text = base.mark_text(baseline='middle').encode(\n",
    "    text = 'term:N',\n",
    "    color = alt.condition(alt.datum.tfidf >= 0.23, alt.value('white'), alt.value('black'))\n",
    ")\n",
    "\n",
    "# display the three superimposed visualizations\n",
    "(heatmap + circle + text).properties(width = 600)"
   ]
  }
 ],
 "metadata": {
  "kernelspec": {
   "display_name": "Python 3 (ipykernel)",
   "language": "python",
   "name": "python3"
  },
  "language_info": {
   "codemirror_mode": {
    "name": "ipython",
    "version": 3
   },
   "file_extension": ".py",
   "mimetype": "text/x-python",
   "name": "python",
   "nbconvert_exporter": "python",
   "pygments_lexer": "ipython3",
   "version": "3.9.6"
  }
 },
 "nbformat": 4,
 "nbformat_minor": 5
}
