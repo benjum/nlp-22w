{
 "cells": [
  {
   "cell_type": "markdown",
   "id": "4edc1037-9b05-44c6-8c07-219f69328b77",
   "metadata": {},
   "source": [
    "# Topic modeling\n",
    "\n",
    "We are going to look at data from the [20 Newsgroups](http://qwone.com/~jason/20Newsgroups/) dataset.  In particular, we'll look at postings to the following newsgroups:\n",
    "* comp.graphics\n",
    "* rec.motorcycles\n",
    "* sci.med\n",
    "\n",
    "Individual posts to these newsgroups are included as files under the `20fetch` folder, but there is no organization by topic.\n",
    "\n",
    "## LDA\n",
    "\n",
    "Latent Dirichlet Allocation:  a topic model that generates topics based on a set of documents' word frequencies.\n",
    "\n",
    "* Get a \"dictionary\" that has IDs for all the words along with a record of their word frequencies.\n",
    "* Use our \"bag of words\" to generate a list for each document containing its words and their frequencies\n",
    "* Use gensim to generate an LDA model\n",
    "\n",
    "Nice example: https://rstudio-pubs-static.s3.amazonaws.com/79360_850b2a69980c4488b1db95987a24867a.html\n",
    "\n",
    "## Gensim\n",
    "\n",
    "* \"Gensim is an open-source library for unsupervised topic modeling and natural language processing, using modern statistical machine learning.\"\n",
    "* [gensim website](https://radimrehurek.com/gensim/)"
   ]
  },
  {
   "cell_type": "code",
   "execution_count": null,
   "id": "db65f627-70d8-43aa-bd0d-131e3a25d399",
   "metadata": {},
   "outputs": [],
   "source": [
    "import pandas as pd\n",
    "from pathlib import Path  \n",
    "import glob"
   ]
  },
  {
   "cell_type": "code",
   "execution_count": null,
   "id": "c44223e6-afd8-4904-ad07-bbbd5ad5dce0",
   "metadata": {},
   "outputs": [],
   "source": [
    "directory_path = '20fetch'\n",
    "text_files = glob.glob(f\"{directory_path}/*\")\n",
    "text_files[0]"
   ]
  },
  {
   "cell_type": "code",
   "execution_count": null,
   "id": "20bf8537-1320-442e-b2cf-af35a9c720dc",
   "metadata": {},
   "outputs": [],
   "source": [
    "with open(text_files[0]) as f:\n",
    "    x = f.read()"
   ]
  },
  {
   "cell_type": "code",
   "execution_count": null,
   "id": "0267475a-529a-48cc-a91d-b3fde92af8aa",
   "metadata": {},
   "outputs": [],
   "source": [
    "x"
   ]
  },
  {
   "cell_type": "code",
   "execution_count": null,
   "id": "73ef6186-a6f8-4178-a96c-1a6819b183ed",
   "metadata": {},
   "outputs": [],
   "source": [
    "listOfNews = []\n",
    "for i in text_files:\n",
    "    try:\n",
    "        with open(i) as f:\n",
    "            listOfNews.append(f.read())\n",
    "    except:\n",
    "        pass"
   ]
  },
  {
   "cell_type": "code",
   "execution_count": null,
   "id": "eaa66e72-9d94-43dd-977a-c73fedab972d",
   "metadata": {},
   "outputs": [],
   "source": [
    "len(text_files)"
   ]
  },
  {
   "cell_type": "code",
   "execution_count": null,
   "id": "6a0b33d5-f5fd-4592-9b56-77b29594b773",
   "metadata": {},
   "outputs": [],
   "source": [
    "len(listOfNews)"
   ]
  },
  {
   "cell_type": "code",
   "execution_count": null,
   "id": "1c419f2a-4a8a-475c-b4fa-320118d83866",
   "metadata": {},
   "outputs": [],
   "source": [
    "listOfNews[45]"
   ]
  },
  {
   "cell_type": "code",
   "execution_count": null,
   "id": "36bae2b9-1a9b-4a0d-9b72-2ba9c42c8580",
   "metadata": {},
   "outputs": [],
   "source": [
    "from nltk.tokenize import sent_tokenize, word_tokenize\n",
    "from nltk.corpus import stopwords\n",
    "from string import punctuation"
   ]
  },
  {
   "cell_type": "code",
   "execution_count": null,
   "id": "3cd5b148-79d3-4d66-8c2b-7453165cbff1",
   "metadata": {
    "tags": []
   },
   "outputs": [],
   "source": [
    "extrastop = ['``',\"''\",\"'re\",\"'s\",\"'re\",'``',\"''\",\"'ll\",\"--\",\"\\'\\'\",\"...\",\n",
    "             \"n\\'t\",'one','would','use','subject','from',\"\\'m\",\"\\'ve\"]"
   ]
  },
  {
   "cell_type": "code",
   "execution_count": null,
   "id": "512c234a-f674-40a7-8311-e21aa308148b",
   "metadata": {},
   "outputs": [],
   "source": [
    "myStopWords = list(punctuation) + stopwords.words('english') + extrastop"
   ]
  },
  {
   "cell_type": "code",
   "execution_count": null,
   "id": "ab39c868-8420-4873-9991-1765a22aab75",
   "metadata": {
    "tags": []
   },
   "outputs": [],
   "source": [
    "[w for w in word_tokenize(listOfNews[0].lower()) if w not in myStopWords]"
   ]
  },
  {
   "cell_type": "code",
   "execution_count": null,
   "id": "48a948b9-75b6-424e-94b3-6c16700b2287",
   "metadata": {},
   "outputs": [],
   "source": [
    "listOfNewsWords = []\n",
    "for i in listOfNews:\n",
    "    listOfNewsWords.append([w for w in word_tokenize(i.lower()) if w not in myStopWords])"
   ]
  },
  {
   "cell_type": "code",
   "execution_count": null,
   "id": "8d53c1a8-cb62-4119-94bb-178619912b52",
   "metadata": {
    "tags": []
   },
   "outputs": [],
   "source": [
    "listOfNewsWords[0]"
   ]
  },
  {
   "cell_type": "code",
   "execution_count": null,
   "id": "f5b80233-5cc9-43f1-a2ed-d69815f39d98",
   "metadata": {},
   "outputs": [],
   "source": [
    "from nltk.stem.porter import PorterStemmer\n",
    "#from nltk.stem import LancasterStemmer"
   ]
  },
  {
   "cell_type": "code",
   "execution_count": null,
   "id": "3a2e3130-fb17-4e22-b775-bf6e98f878fd",
   "metadata": {},
   "outputs": [],
   "source": [
    "# Create p_stemmer of class PorterStemmer\n",
    "p_stemmer = PorterStemmer()"
   ]
  },
  {
   "cell_type": "code",
   "execution_count": null,
   "id": "1e877102-13db-43ed-82d1-551ec474d977",
   "metadata": {},
   "outputs": [],
   "source": [
    "listOfStemmedWords = []\n",
    "for i in listOfNewsWords:\n",
    "    listOfStemmedWords.append([p_stemmer.stem(w) for w in i])"
   ]
  },
  {
   "cell_type": "code",
   "execution_count": null,
   "id": "a5436a74-4f45-4e7d-96ca-12e7ef806c45",
   "metadata": {
    "tags": []
   },
   "outputs": [],
   "source": [
    "listOfStemmedWords[0]"
   ]
  },
  {
   "cell_type": "code",
   "execution_count": null,
   "id": "ddf4711f-bbcc-4ef6-88f6-fcd292e754f8",
   "metadata": {},
   "outputs": [],
   "source": [
    "!pip install gensim"
   ]
  },
  {
   "cell_type": "code",
   "execution_count": null,
   "id": "8c2294d9-ab78-42e0-83ca-321bc381503d",
   "metadata": {},
   "outputs": [],
   "source": [
    "from gensim import corpora, models\n",
    "import gensim"
   ]
  },
  {
   "cell_type": "code",
   "execution_count": null,
   "id": "5da8cbe2-dc2f-495a-b8b5-983e296d9b1f",
   "metadata": {},
   "outputs": [],
   "source": [
    "dictionary = corpora.Dictionary(listOfStemmedWords)"
   ]
  },
  {
   "cell_type": "code",
   "execution_count": null,
   "id": "0d17faa4-eca1-4647-a0f7-66163435e2b4",
   "metadata": {
    "tags": []
   },
   "outputs": [],
   "source": [
    "print(dictionary.token2id)"
   ]
  },
  {
   "cell_type": "code",
   "execution_count": null,
   "id": "2aa8266d-bb5d-4626-95a1-91d2df9dd084",
   "metadata": {},
   "outputs": [],
   "source": [
    "corpus = [dictionary.doc2bow(text) for text in listOfStemmedWords]"
   ]
  },
  {
   "cell_type": "code",
   "execution_count": null,
   "id": "5383fd9b-0267-4d5c-ab54-eb06e8c082bc",
   "metadata": {},
   "outputs": [],
   "source": [
    "print(corpus[30])"
   ]
  },
  {
   "cell_type": "code",
   "execution_count": null,
   "id": "86f6ef81-3112-424f-9144-72231343e04f",
   "metadata": {},
   "outputs": [],
   "source": [
    "print(dictionary.token2id['oil'])"
   ]
  },
  {
   "cell_type": "code",
   "execution_count": null,
   "id": "f364d19a-d545-485b-bb5b-25be3cfba874",
   "metadata": {},
   "outputs": [],
   "source": [
    "ldamodel = gensim.models.ldamodel.LdaModel(corpus, \n",
    "                                           num_topics=3, \n",
    "                                           id2word = dictionary, \n",
    "                                           passes=20)"
   ]
  },
  {
   "cell_type": "code",
   "execution_count": null,
   "id": "34abdd71-d58e-447b-a5c1-94e91090ed73",
   "metadata": {},
   "outputs": [],
   "source": [
    "for i in ldamodel.print_topics(num_topics=3, num_words=20):\n",
    "    print(i)"
   ]
  },
  {
   "cell_type": "code",
   "execution_count": null,
   "id": "8302492e-f9e4-4117-8368-f771d5e78350",
   "metadata": {},
   "outputs": [],
   "source": [
    "ldamodel.show_topic(1, topn=20)"
   ]
  },
  {
   "cell_type": "code",
   "execution_count": null,
   "id": "5791a8dd-91d6-45fe-9aeb-e30a1cd53ff0",
   "metadata": {},
   "outputs": [],
   "source": [
    "for i in range(3):\n",
    "    print('Topic '+str(i))\n",
    "    for j in ldamodel.show_topic(i, topn=20):\n",
    "            print(j[0])\n",
    "    print('\\n')"
   ]
  },
  {
   "cell_type": "code",
   "execution_count": null,
   "id": "d0bf3ccf-37cb-413e-8ea0-eb93a13f45a8",
   "metadata": {},
   "outputs": [],
   "source": [
    "npasses = 100\n",
    "ntopics = 3\n",
    "\n",
    "ldamodel = gensim.models.ldamodel.LdaModel(corpus, \n",
    "                                           num_topics=ntopics, \n",
    "                                           id2word = dictionary, \n",
    "                                           passes=npasses)\n",
    "\n",
    "for i in range(ntopics):\n",
    "    print('Topic '+str(i))\n",
    "    for j in ldamodel.show_topic(i, topn=20):\n",
    "            print(j[0])\n",
    "    print('\\n')"
   ]
  }
 ],
 "metadata": {
  "kernelspec": {
   "display_name": "Python 3 (ipykernel)",
   "language": "python",
   "name": "python3"
  },
  "language_info": {
   "codemirror_mode": {
    "name": "ipython",
    "version": 3
   },
   "file_extension": ".py",
   "mimetype": "text/x-python",
   "name": "python",
   "nbconvert_exporter": "python",
   "pygments_lexer": "ipython3",
   "version": "3.9.6"
  }
 },
 "nbformat": 4,
 "nbformat_minor": 5
}
