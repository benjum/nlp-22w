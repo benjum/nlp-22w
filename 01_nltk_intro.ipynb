{
 "cells": [
  {
   "cell_type": "markdown",
   "id": "a057f008-5f33-4766-8690-4b4127ab1871",
   "metadata": {},
   "source": [
    "# Introduction to NLP with Python's NLTK\n",
    "\n",
    "* \"NLTK is a leading platform for building Python programs to work with human language data.\" -- NLTK website\n",
    "* https://www.nltk.org/"
   ]
  },
  {
   "cell_type": "code",
   "execution_count": null,
   "id": "4aab6efc-a9e7-457b-80e5-1d1ec7417f4a",
   "metadata": {},
   "outputs": [],
   "source": [
    "import nltk"
   ]
  },
  {
   "cell_type": "code",
   "execution_count": null,
   "id": "72ba0cbe-0fc6-4bff-8626-5dd38d3e8583",
   "metadata": {},
   "outputs": [],
   "source": [
    "text = '''\n",
    "Call me Ishmael. Some years ago—never mind how long precisely—having little\n",
    "or no money in my purse, and nothing particular to interest me on shore, \n",
    "I thought I would sail about a little and see the watery part of the world.'\n",
    "'''"
   ]
  },
  {
   "cell_type": "code",
   "execution_count": null,
   "id": "56e6cf54-9661-4952-9b43-c82ebd294b3f",
   "metadata": {},
   "outputs": [],
   "source": [
    "print(text)"
   ]
  },
  {
   "cell_type": "markdown",
   "id": "e375e97c-d22b-43c9-9b2c-6352d7bd5ca6",
   "metadata": {},
   "source": [
    "## Tokenization"
   ]
  },
  {
   "cell_type": "code",
   "execution_count": null,
   "id": "712aa087-41c0-45f3-8738-5a98b2e6747d",
   "metadata": {},
   "outputs": [],
   "source": [
    "from nltk.tokenize import word_tokenize, sent_tokenize"
   ]
  },
  {
   "cell_type": "code",
   "execution_count": null,
   "id": "dab9cdcc-5403-4106-b53b-d3c229d2c02c",
   "metadata": {},
   "outputs": [],
   "source": [
    "sent = sent_tokenize(text)\n",
    "print(sent)"
   ]
  },
  {
   "cell_type": "code",
   "execution_count": null,
   "id": "c5b34b48-d148-4e3a-acf4-19fb90214320",
   "metadata": {},
   "outputs": [],
   "source": [
    "print(word_tokenize(sent[1]))"
   ]
  },
  {
   "cell_type": "code",
   "execution_count": null,
   "id": "42a19cc1-faa5-44e7-a7a9-5bed514aafa3",
   "metadata": {},
   "outputs": [],
   "source": [
    "words = []\n",
    "for s in sent:\n",
    "    for w in word_tokenize(s):\n",
    "        words.append(w)"
   ]
  },
  {
   "cell_type": "code",
   "execution_count": null,
   "id": "e4cb1f17-3313-4b5f-a86a-a0e4b74ad346",
   "metadata": {},
   "outputs": [],
   "source": [
    "print(words)"
   ]
  },
  {
   "cell_type": "markdown",
   "id": "01707337-6707-404f-bd64-407d1e977032",
   "metadata": {},
   "source": [
    "## Stopword removal"
   ]
  },
  {
   "cell_type": "code",
   "execution_count": null,
   "id": "06b0ad7f-4558-468d-a6b9-32baa4249904",
   "metadata": {},
   "outputs": [],
   "source": [
    "from nltk.corpus import stopwords\n",
    "from string import punctuation\n",
    "nltk.download('stopwords')"
   ]
  },
  {
   "cell_type": "code",
   "execution_count": null,
   "id": "1c12e961-caae-4bf5-96a9-70c22473fbc1",
   "metadata": {},
   "outputs": [],
   "source": [
    "print(punctuation)"
   ]
  },
  {
   "cell_type": "code",
   "execution_count": null,
   "id": "8b123620-daf7-488a-b261-d40f13e48222",
   "metadata": {},
   "outputs": [],
   "source": [
    "print(stopwords.words('english'))"
   ]
  },
  {
   "cell_type": "code",
   "execution_count": null,
   "id": "55bd6df1-18e9-4fb7-b021-b20557e8574d",
   "metadata": {},
   "outputs": [],
   "source": [
    "print(list(punctuation))"
   ]
  },
  {
   "cell_type": "code",
   "execution_count": null,
   "id": "8b6d073e-4281-4e0b-9d0c-17d370b2bcf6",
   "metadata": {},
   "outputs": [],
   "source": [
    "myStopWords = list(punctuation) + stopwords.words('english')"
   ]
  },
  {
   "cell_type": "code",
   "execution_count": null,
   "id": "27a18da5-936d-4d92-84c3-8713f7b8c846",
   "metadata": {},
   "outputs": [],
   "source": [
    "print(words)"
   ]
  },
  {
   "cell_type": "code",
   "execution_count": null,
   "id": "86bbe153-6e7e-45d3-82c5-8bf2aec79829",
   "metadata": {},
   "outputs": [],
   "source": [
    "wordsNoStop = []\n",
    "for i in words:\n",
    "    if i not in myStopWords:\n",
    "        wordsNoStop.append(i)\n",
    "print(words)\n",
    "print(wordsNoStop)"
   ]
  },
  {
   "cell_type": "code",
   "execution_count": null,
   "id": "2ff8395a-6edb-4c27-b0bf-70200f7d2f3c",
   "metadata": {},
   "outputs": [],
   "source": [
    "wordsNoStopComp = [w for w in words if w not in myStopWords]\n",
    "print(wordsNoStopComp)"
   ]
  },
  {
   "cell_type": "markdown",
   "id": "32907fd3-f01d-4a1b-b802-95799f1b4f87",
   "metadata": {},
   "source": [
    "## N-grams"
   ]
  },
  {
   "cell_type": "code",
   "execution_count": null,
   "id": "bd64e6ed-e03e-419c-b721-9d513389b23b",
   "metadata": {},
   "outputs": [],
   "source": [
    "from nltk.collocations import *"
   ]
  },
  {
   "cell_type": "code",
   "execution_count": null,
   "id": "3fa06922-df24-4905-9c3e-635a8fdb880f",
   "metadata": {},
   "outputs": [],
   "source": [
    "finder = BigramCollocationFinder.from_words(wordsNoStop)"
   ]
  },
  {
   "cell_type": "code",
   "execution_count": null,
   "id": "5cea51ba-80fb-4fe6-ad24-ca68ebd8467f",
   "metadata": {},
   "outputs": [],
   "source": [
    "finder"
   ]
  },
  {
   "cell_type": "code",
   "execution_count": null,
   "id": "1a37ae9d-b73b-4a8d-8388-365f5caf0cff",
   "metadata": {},
   "outputs": [],
   "source": [
    "finder.ngram_fd"
   ]
  },
  {
   "cell_type": "code",
   "execution_count": null,
   "id": "64ec0f60-b3b3-4d12-87ea-4d6ab6a92976",
   "metadata": {},
   "outputs": [],
   "source": [
    "finder.ngram_fd.items()"
   ]
  },
  {
   "cell_type": "code",
   "execution_count": null,
   "id": "0d059c3f-bbc9-42f7-be5f-ecc77a52033a",
   "metadata": {},
   "outputs": [],
   "source": [
    "sorted(finder.ngram_fd.items())"
   ]
  },
  {
   "cell_type": "markdown",
   "id": "f9f730a2-48ce-4610-bd70-021e6ff9d884",
   "metadata": {},
   "source": [
    "## Stemming and Tagging"
   ]
  },
  {
   "cell_type": "code",
   "execution_count": null,
   "id": "1b1d9c82-1f75-4b8c-964b-4d0ec7a71422",
   "metadata": {},
   "outputs": [],
   "source": [
    "text2 = 'Ishmael sailed because sailing and wanting to sail was in his blood.'"
   ]
  },
  {
   "cell_type": "code",
   "execution_count": null,
   "id": "9cf8742b-0f35-40f3-a256-a7a044fcfe86",
   "metadata": {},
   "outputs": [],
   "source": [
    "from nltk.stem.lancaster import LancasterStemmer\n",
    "from nltk.stem.porter import PorterStemmer"
   ]
  },
  {
   "cell_type": "code",
   "execution_count": null,
   "id": "98952ad0-7d9c-4860-85ef-1d4d76f5b601",
   "metadata": {},
   "outputs": [],
   "source": [
    "words = word_tokenize(text2)"
   ]
  },
  {
   "cell_type": "code",
   "execution_count": null,
   "id": "8ca1c277-be2c-4423-ad2e-df39170294f1",
   "metadata": {},
   "outputs": [],
   "source": [
    "print(words)"
   ]
  },
  {
   "cell_type": "code",
   "execution_count": null,
   "id": "c6d79d46-275b-41eb-ab28-db4439d2f85a",
   "metadata": {},
   "outputs": [],
   "source": [
    "wordLancasterStems = [LancasterStemmer().stem(w) for w in words]\n",
    "wordPorterStems = [PorterStemmer().stem(w) for w in words]"
   ]
  },
  {
   "cell_type": "code",
   "execution_count": null,
   "id": "693346f4-813d-4364-bb29-c3590a08f0db",
   "metadata": {},
   "outputs": [],
   "source": [
    "print(wordLancasterStems)\n",
    "print(wordPorterStems)"
   ]
  },
  {
   "cell_type": "code",
   "execution_count": null,
   "id": "a5074e03-bfdf-4bbf-94d3-aab6dbe8187c",
   "metadata": {},
   "outputs": [],
   "source": [
    "nltk.pos_tag(words)"
   ]
  },
  {
   "cell_type": "code",
   "execution_count": null,
   "id": "fb61bc07-5271-4533-b865-49368c7c301a",
   "metadata": {},
   "outputs": [],
   "source": [
    "nltk.pos_tag(word_tokenize('Once upon a time there was a cat.  It was black and fluffy.'))"
   ]
  },
  {
   "cell_type": "markdown",
   "id": "89961a5c-df27-46cb-8616-b9690f0210ce",
   "metadata": {},
   "source": [
    "Check out the [Penn Treebank Project list](https://www.ling.upenn.edu/courses/Fall_2003/ling001/penn_treebank_pos.html)"
   ]
  },
  {
   "cell_type": "markdown",
   "id": "6e506f81-47c2-43eb-a419-484224a6bacd",
   "metadata": {},
   "source": [
    "## Word sense disambiguation"
   ]
  },
  {
   "cell_type": "code",
   "execution_count": null,
   "id": "ecdd4f3b-6045-4e9e-8561-fba1f3d6685b",
   "metadata": {},
   "outputs": [],
   "source": [
    "from nltk.corpus import wordnet\n",
    "for ss in wordnet.synsets('sail'):\n",
    "    print(ss, ss.definition())"
   ]
  },
  {
   "cell_type": "code",
   "execution_count": null,
   "id": "27449865-8d15-4cef-8dee-04576cc3c4b4",
   "metadata": {},
   "outputs": [],
   "source": [
    "from nltk.wsd import lesk"
   ]
  },
  {
   "cell_type": "code",
   "execution_count": null,
   "id": "7167125a-6f2c-4b8d-adaa-77b010c18c9b",
   "metadata": {},
   "outputs": [],
   "source": [
    "print(words)"
   ]
  },
  {
   "cell_type": "code",
   "execution_count": null,
   "id": "69969cff-c19d-48c8-b850-0e42818effe8",
   "metadata": {},
   "outputs": [],
   "source": [
    "wordSense = lesk(words, 'sail')"
   ]
  },
  {
   "cell_type": "code",
   "execution_count": null,
   "id": "82581ac0-86ae-42d2-844f-efee455fc747",
   "metadata": {},
   "outputs": [],
   "source": [
    "print(wordSense, wordSense.definition())"
   ]
  },
  {
   "cell_type": "code",
   "execution_count": null,
   "id": "07527854-5e9c-4427-9c99-a5c5fb740e6c",
   "metadata": {},
   "outputs": [],
   "source": [
    "wordSense = lesk(words, 'sailed')"
   ]
  },
  {
   "cell_type": "code",
   "execution_count": null,
   "id": "5d068756-a0cb-4c37-9f8f-485090454aac",
   "metadata": {},
   "outputs": [],
   "source": [
    "print(wordSense, wordSense.definition())"
   ]
  },
  {
   "cell_type": "code",
   "execution_count": null,
   "id": "be1ba474-0478-493e-befd-9f62c0b98fc0",
   "metadata": {},
   "outputs": [],
   "source": [
    "wordSense = lesk(words, 'wanting to sail')"
   ]
  },
  {
   "cell_type": "code",
   "execution_count": null,
   "id": "c2528ff5-714e-436e-99ca-8988b1195be3",
   "metadata": {},
   "outputs": [],
   "source": [
    "print(wordSense, wordSense.definition())"
   ]
  },
  {
   "cell_type": "code",
   "execution_count": null,
   "id": "a7a995f3-b334-47e7-9a22-7fcd86861709",
   "metadata": {},
   "outputs": [],
   "source": [
    "t = 'I will sail to Mexico each winter.'\n",
    "s = lesk(word_tokenize(t), 'sail')\n",
    "print(s, s.definition())"
   ]
  }
 ],
 "metadata": {
  "kernelspec": {
   "display_name": "Python 3 (ipykernel)",
   "language": "python",
   "name": "python3"
  },
  "language_info": {
   "codemirror_mode": {
    "name": "ipython",
    "version": 3
   },
   "file_extension": ".py",
   "mimetype": "text/x-python",
   "name": "python",
   "nbconvert_exporter": "python",
   "pygments_lexer": "ipython3",
   "version": "3.9.6"
  }
 },
 "nbformat": 4,
 "nbformat_minor": 5
}
