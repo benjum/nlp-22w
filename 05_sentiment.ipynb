{
 "cells": [
  {
   "cell_type": "markdown",
   "id": "b469de05-cc72-4ef5-bb6f-cbb65d155aa9",
   "metadata": {},
   "source": [
    "# Sentiment and Classification"
   ]
  },
  {
   "cell_type": "markdown",
   "id": "7be77db3-0ce7-471b-a5d2-0e89abf72168",
   "metadata": {},
   "source": [
    "For sentiment, we will look at VADER and NLTK's Sentiwordnet.\n",
    "\n",
    "* \"VADER (Valence Aware Dictionary and sEntiment Reasoner) is a lexicon and rule-based sentiment analysis tool that is specifically attuned to sentiments expressed in social media.\"\n",
    "  * https://github.com/cjhutto/vaderSentiment\n",
    "  \n",
    "* Sentiwordnet is a part of the NLTK library that includes sentiment scores for words on top of the information provided by wordnet.\n",
    "  * https://www.nltk.org/howto/sentiwordnet.html"
   ]
  },
  {
   "cell_type": "code",
   "execution_count": null,
   "id": "5de7c903-55f3-4a9a-96e7-38cd17271ce1",
   "metadata": {},
   "outputs": [],
   "source": [
    "import nltk\n",
    "from nltk.sentiment import vader\n",
    "nltk.download('vader_lexicon')"
   ]
  },
  {
   "cell_type": "code",
   "execution_count": null,
   "id": "8d539b3e-35fb-4f6a-880d-d93d54c79065",
   "metadata": {},
   "outputs": [],
   "source": [
    "sia = vader.SentimentIntensityAnalyzer()"
   ]
  },
  {
   "cell_type": "code",
   "execution_count": null,
   "id": "8b22e539-160e-408b-affa-aa224743f7b7",
   "metadata": {},
   "outputs": [],
   "source": [
    "sia.polarity_scores('Luke, I am your father.')"
   ]
  },
  {
   "cell_type": "code",
   "execution_count": null,
   "id": "ca8153d0-a7d4-4e15-96df-a2ee7d3ff819",
   "metadata": {},
   "outputs": [],
   "source": [
    "sia.polarity_scores('NO!!!!!!')"
   ]
  },
  {
   "cell_type": "code",
   "execution_count": null,
   "id": "f766b61c-4954-4542-ba9f-8a1517e5c1f8",
   "metadata": {},
   "outputs": [],
   "source": [
    "sia.polarity_scores('I hate you.')"
   ]
  },
  {
   "cell_type": "code",
   "execution_count": null,
   "id": "a1dd71cf-217a-46ae-a6e1-009ad6adb93d",
   "metadata": {},
   "outputs": [],
   "source": [
    "sia.polarity_scores('I HATE you.')"
   ]
  },
  {
   "cell_type": "code",
   "execution_count": null,
   "id": "6d2951e5-3d31-432d-af9c-fba5233e3855",
   "metadata": {},
   "outputs": [],
   "source": [
    "sia.polarity_scores('I HATE you!!!!')"
   ]
  },
  {
   "cell_type": "code",
   "execution_count": null,
   "id": "68b3a5de-7d04-4dd4-99d7-d01a59e10fdc",
   "metadata": {},
   "outputs": [],
   "source": [
    "sia.polarity_scores('Thank you Dad')"
   ]
  },
  {
   "cell_type": "markdown",
   "id": "09d534e5-87e8-4a39-8e8b-d9b630dac246",
   "metadata": {},
   "source": [
    "Try typing in a couple sentences to explore polarity scores"
   ]
  },
  {
   "cell_type": "code",
   "execution_count": null,
   "id": "e39dfdde-dd16-4525-90b7-51e89ea8134a",
   "metadata": {},
   "outputs": [],
   "source": []
  },
  {
   "cell_type": "markdown",
   "id": "fbe442e1-7b1c-4bd7-aee2-23a9746f7c82",
   "metadata": {},
   "source": [
    "sia.polarity_scores(':D')"
   ]
  },
  {
   "cell_type": "code",
   "execution_count": null,
   "id": "1aae029d-df16-49dc-bc80-e2c14fcf982d",
   "metadata": {},
   "outputs": [],
   "source": [
    "sia.polarity_scores(':D')"
   ]
  },
  {
   "cell_type": "code",
   "execution_count": null,
   "id": "4892e59d-cb4b-464d-8fba-3defa42b954c",
   "metadata": {},
   "outputs": [],
   "source": [
    "sia.polarity_scores(':(')"
   ]
  },
  {
   "cell_type": "code",
   "execution_count": null,
   "id": "cb782224-9375-4146-a447-9762ccac6ffa",
   "metadata": {},
   "outputs": [],
   "source": [
    "sia.polarity_scores('>:(')"
   ]
  },
  {
   "cell_type": "markdown",
   "id": "82698a31-c951-46d6-8a41-7c93904f7b8a",
   "metadata": {},
   "source": [
    "Negation"
   ]
  },
  {
   "cell_type": "code",
   "execution_count": null,
   "id": "795e7e3e-4eca-443e-8d44-1d43f1141c92",
   "metadata": {},
   "outputs": [],
   "source": [
    "sia.polarity_scores(\"I don't hate you\")"
   ]
  },
  {
   "cell_type": "code",
   "execution_count": null,
   "id": "00f9f15f-256b-4381-bfd5-0fc5b7744f51",
   "metadata": {},
   "outputs": [],
   "source": [
    "sia.polarity_scores(\"I don't not love you\")"
   ]
  },
  {
   "cell_type": "code",
   "execution_count": null,
   "id": "270a909c-2233-478e-ae12-88a607f63b4b",
   "metadata": {},
   "outputs": [],
   "source": [
    "sia.polarity_scores(\"I love you\")"
   ]
  },
  {
   "cell_type": "code",
   "execution_count": null,
   "id": "1844741a-0ebd-49f7-959d-c86c091879ab",
   "metadata": {},
   "outputs": [],
   "source": [
    "sia.polarity_scores(\"I LOVE you\")"
   ]
  },
  {
   "cell_type": "code",
   "execution_count": null,
   "id": "58352a96-85a7-44f1-960d-0644d8ffcb0b",
   "metadata": {},
   "outputs": [],
   "source": [
    "sia.polarity_scores(\"I really love you\")"
   ]
  },
  {
   "cell_type": "code",
   "execution_count": null,
   "id": "6bce382e-f835-409c-a863-f54a638dada7",
   "metadata": {},
   "outputs": [],
   "source": [
    "sia.polarity_scores(\"I am in love with you\")"
   ]
  },
  {
   "cell_type": "code",
   "execution_count": null,
   "id": "44350d97-d710-4242-9902-437095bef368",
   "metadata": {},
   "outputs": [],
   "source": [
    "sia.polarity_scores(\"I am so in love with you\")"
   ]
  },
  {
   "cell_type": "markdown",
   "id": "696d5094-d82c-489e-a71b-c8d4ab1db48a",
   "metadata": {},
   "source": [
    "Contrast"
   ]
  },
  {
   "cell_type": "code",
   "execution_count": null,
   "id": "d0f3020e-954e-49b7-aff9-3d097bd1caf2",
   "metadata": {},
   "outputs": [],
   "source": [
    "sia.polarity_scores(\"I usually hate shrimp but I loved this\")"
   ]
  },
  {
   "cell_type": "markdown",
   "id": "8c037ced-16cc-4e9c-9bcf-fab42e7ec0a3",
   "metadata": {},
   "source": [
    "The part after the but takes precendence"
   ]
  },
  {
   "cell_type": "code",
   "execution_count": null,
   "id": "bc71d581-078a-471d-b26c-82b75edb7feb",
   "metadata": {},
   "outputs": [],
   "source": [
    "sia.polarity_scores(\"I usually hate shrimp and I loved this\")"
   ]
  },
  {
   "cell_type": "code",
   "execution_count": null,
   "id": "50a31387-3637-4b21-91c7-8b0e2a530fcf",
   "metadata": {},
   "outputs": [],
   "source": [
    "sia.polarity_scores(\"I usually hate shrimp and I liked this\")"
   ]
  },
  {
   "cell_type": "markdown",
   "id": "e848a7b9-4330-4304-8b7d-857d4c84085d",
   "metadata": {},
   "source": [
    "## Cornell's movie data reviews\n",
    "\n",
    "https://www.cs.cornell.edu/people/pabo/movie-review-data/"
   ]
  },
  {
   "cell_type": "code",
   "execution_count": null,
   "id": "c80cfb8b-af16-4f72-a946-b15a76760712",
   "metadata": {},
   "outputs": [],
   "source": [
    "with open('rt-polaritydata/rt-polarity.neg','rb') as f:\n",
    "    negReviews = f.readlines()\n",
    "    for i in range(len(negReviews)):\n",
    "        negReviews[i] = str(negReviews[i], 'ascii', errors='ignore')\n",
    "        \n",
    "with open('rt-polaritydata/rt-polarity.pos','rb') as f:\n",
    "    posReviews = f.readlines()\n",
    "    for i in range(len(posReviews)):\n",
    "        posReviews[i] = str(posReviews[i], 'ascii', errors='ignore')"
   ]
  },
  {
   "cell_type": "code",
   "execution_count": null,
   "id": "7e46343c-2be9-4831-ae2b-95647e0a5b20",
   "metadata": {},
   "outputs": [],
   "source": [
    "import pandas as pd"
   ]
  },
  {
   "cell_type": "code",
   "execution_count": null,
   "id": "349c63bb-7dc1-4d30-ab28-e89d2604fb2c",
   "metadata": {},
   "outputs": [],
   "source": [
    "dfpos = pd.DataFrame({'Review':posReviews, 'Polarity':1})\n",
    "dfneg = pd.DataFrame({'Review':negReviews, 'Polarity':-1})"
   ]
  },
  {
   "cell_type": "code",
   "execution_count": null,
   "id": "b84e9ff2-cbe5-4fa9-86ae-ac608299a3a3",
   "metadata": {},
   "outputs": [],
   "source": [
    "dfpos.head()"
   ]
  },
  {
   "cell_type": "code",
   "execution_count": null,
   "id": "582859d0-24d6-4e6f-ba34-6325e39a28a6",
   "metadata": {},
   "outputs": [],
   "source": [
    "dfall = pd.concat([dfpos,dfneg], ignore_index=True)"
   ]
  },
  {
   "cell_type": "code",
   "execution_count": null,
   "id": "a36b4def-b355-4d0d-9534-ed1fa4f3e052",
   "metadata": {},
   "outputs": [],
   "source": [
    "dfall.head()"
   ]
  },
  {
   "cell_type": "code",
   "execution_count": null,
   "id": "cf2b3e13-31ba-4651-8b70-1cfce1f1d252",
   "metadata": {},
   "outputs": [],
   "source": [
    "dfall.tail()"
   ]
  },
  {
   "cell_type": "code",
   "execution_count": null,
   "id": "5f7f9442-bac1-4c57-a900-7a51bc17161a",
   "metadata": {
    "tags": []
   },
   "outputs": [],
   "source": [
    "dfall.loc[dfall['Polarity']==1,'Review']"
   ]
  },
  {
   "cell_type": "code",
   "execution_count": null,
   "id": "72092f7d-00f6-4f29-8baa-fa8fe79299f1",
   "metadata": {
    "tags": []
   },
   "outputs": [],
   "source": [
    "dfall.loc[dfall['Polarity']==-1,'Review'][:5]"
   ]
  },
  {
   "cell_type": "markdown",
   "id": "1072bff3-e2c1-40e4-b2b6-c25228ac50aa",
   "metadata": {},
   "source": [
    "## Classify with VADER"
   ]
  },
  {
   "cell_type": "code",
   "execution_count": null,
   "id": "580c3112-e8cb-4d2f-a38b-2571bcc2b2fb",
   "metadata": {},
   "outputs": [],
   "source": [
    "def getSentiment(review):\n",
    "    return sia.polarity_scores(review)['compound']"
   ]
  },
  {
   "cell_type": "code",
   "execution_count": null,
   "id": "b8c5e4ad-fb09-419f-9251-452e502f354e",
   "metadata": {},
   "outputs": [],
   "source": [
    "# Test\n",
    "myreview = 'This movie tries to be Star Wars but fails miserably.'"
   ]
  },
  {
   "cell_type": "code",
   "execution_count": null,
   "id": "aaeaa653-ec36-4066-958a-7615356e8b74",
   "metadata": {},
   "outputs": [],
   "source": [
    "getSentiment(myreview)"
   ]
  },
  {
   "cell_type": "code",
   "execution_count": null,
   "id": "8903f397-5867-4319-8f98-24ce54decd81",
   "metadata": {},
   "outputs": [],
   "source": [
    "dfall['VaderSentiment'] = [getSentiment(review) for review in dfall['Review']]"
   ]
  },
  {
   "cell_type": "code",
   "execution_count": null,
   "id": "810dc7ec-3ab5-4c40-b7f2-57307779ff80",
   "metadata": {},
   "outputs": [],
   "source": [
    "dfall.head()"
   ]
  },
  {
   "cell_type": "code",
   "execution_count": null,
   "id": "c56e88cc-88ff-451b-89d9-5b3f0e0ae726",
   "metadata": {},
   "outputs": [],
   "source": [
    "dfall.loc[(dfall['Polarity']==1) & (dfall['VaderSentiment']>0),'Review'].count()"
   ]
  },
  {
   "cell_type": "code",
   "execution_count": null,
   "id": "fc15a9fe-3a63-48f5-8c1e-8524dfd57f20",
   "metadata": {},
   "outputs": [],
   "source": [
    "correct = dfall.loc[(dfall['Polarity']==1) & (dfall['VaderSentiment']>0),'Review'].count()\n",
    "total = dfall.loc[(dfall['Polarity']==1),'Review'].count()\n",
    "correct/total"
   ]
  },
  {
   "cell_type": "code",
   "execution_count": null,
   "id": "7beb7700-3764-44ac-8a3b-322021b33936",
   "metadata": {},
   "outputs": [],
   "source": [
    "correct = dfall.loc[(dfall['Polarity']==-1) & (dfall['VaderSentiment']<0),'Review'].count()\n",
    "total = dfall.loc[(dfall['Polarity']==-1),'Review'].count()\n",
    "correct/total"
   ]
  },
  {
   "cell_type": "code",
   "execution_count": null,
   "id": "036a3534-4779-4df6-92ae-bd51300230db",
   "metadata": {},
   "outputs": [],
   "source": [
    "for i in dfall.loc[(dfall['Polarity']==-1)][:5].index:\n",
    "    print(dfall.loc[i,'VaderSentiment'], ':', dfall.loc[i,'Review'])"
   ]
  },
  {
   "cell_type": "code",
   "execution_count": null,
   "id": "c8877e8c-f1e1-41fb-9871-9fac77164f23",
   "metadata": {},
   "outputs": [],
   "source": [
    "getSentiment('''exploitative and largely devoid of the depth or \n",
    "             sophistication that would make watching such a graphic \n",
    "             treatment of the crimes bearable''')"
   ]
  },
  {
   "cell_type": "code",
   "execution_count": null,
   "id": "bca72de9-aa13-435c-90f1-f7956784e94f",
   "metadata": {},
   "outputs": [],
   "source": [
    "dfall.loc[dfall['Polarity']==1, 'VaderSentiment'].hist()"
   ]
  },
  {
   "cell_type": "code",
   "execution_count": null,
   "id": "74cf7b0b-9b6f-44d7-a248-d3036a435650",
   "metadata": {},
   "outputs": [],
   "source": [
    "dfall.loc[dfall['Polarity']==-1, 'VaderSentiment'].hist()"
   ]
  },
  {
   "cell_type": "code",
   "execution_count": null,
   "id": "70131ba2-9c00-414b-a61c-29f8752315e5",
   "metadata": {},
   "outputs": [],
   "source": [
    "poscorrect = dfall.loc[(dfall['Polarity']==1) & (dfall['VaderSentiment']>0),'Review'].count()\n",
    "negcorrect = dfall.loc[(dfall['Polarity']==-1) & (dfall['VaderSentiment']<0),'Review'].count()\n",
    "total = dfall['Review'].count()\n",
    "(poscorrect + negcorrect)/total"
   ]
  },
  {
   "cell_type": "markdown",
   "id": "fa0943c1-439a-4c89-a3fe-ab3b9c9d3d35",
   "metadata": {},
   "source": [
    "Why do we write functions?  To generalize the coding we've done."
   ]
  },
  {
   "cell_type": "code",
   "execution_count": null,
   "id": "66a89691-f7ee-4fb8-8401-09bcd43c5b74",
   "metadata": {},
   "outputs": [],
   "source": [
    "def runScoring(dfall):\n",
    "    poscorrect = dfall.loc[(dfall['Polarity']==1) & (dfall['VaderSentiment']>0),'Review'].count()\n",
    "    postotal = dfall.loc[(dfall['Polarity']==1),'Review'].count()\n",
    "\n",
    "    negcorrect = dfall.loc[(dfall['Polarity']==-1) & (dfall['VaderSentiment']<0),'Review'].count()\n",
    "    negtotal = dfall.loc[(dfall['Polarity']==-1),'Review'].count()\n",
    "\n",
    "    total = dfall['Review'].count()\n",
    "\n",
    "    print('The accuracy for Polarity reviews is: ' + str(poscorrect/postotal*100) + '%')\n",
    "    print('The accuracy for negative reviews is: ' + str(negcorrect/negtotal*100) + '%')\n",
    "    print('The overall accuracy is: ' + str((poscorrect+negcorrect)/total*100) + '%')"
   ]
  },
  {
   "cell_type": "code",
   "execution_count": null,
   "id": "48f4253c-07d2-4f92-8a93-e0d4041c4466",
   "metadata": {},
   "outputs": [],
   "source": [
    "runScoring(dfall)"
   ]
  },
  {
   "cell_type": "markdown",
   "id": "65611c10-11aa-4980-9b22-422c18afb2bd",
   "metadata": {},
   "source": [
    "## Classify with Sentiwordnet"
   ]
  },
  {
   "cell_type": "code",
   "execution_count": null,
   "id": "2c7afb25-8de9-49b3-815a-7e3263d619d7",
   "metadata": {},
   "outputs": [],
   "source": [
    "from nltk.corpus import sentiwordnet as swn\n",
    "nltk.download('sentiwordnet')"
   ]
  },
  {
   "cell_type": "code",
   "execution_count": null,
   "id": "9dec00fd-32b4-4b00-ad00-d95c535adae3",
   "metadata": {},
   "outputs": [],
   "source": [
    "list(swn.senti_synsets('funny'))"
   ]
  },
  {
   "cell_type": "code",
   "execution_count": null,
   "id": "3b3fa280-0118-4440-b595-92f2338573d2",
   "metadata": {},
   "outputs": [],
   "source": [
    "list(swn.senti_synsets('funny'))[0]"
   ]
  },
  {
   "cell_type": "code",
   "execution_count": null,
   "id": "15e56419-b4a9-48f8-9776-f88673fec3fd",
   "metadata": {},
   "outputs": [],
   "source": [
    "list(swn.senti_synsets('funny'))[0].pos_score()"
   ]
  },
  {
   "cell_type": "code",
   "execution_count": null,
   "id": "b6230bae-cef7-4b44-add6-76928146e6c1",
   "metadata": {},
   "outputs": [],
   "source": [
    "list(swn.senti_synsets('funny'))[0].neg_score()"
   ]
  },
  {
   "cell_type": "code",
   "execution_count": null,
   "id": "2ae36376-9014-46a9-839a-c946fd8afdd7",
   "metadata": {},
   "outputs": [],
   "source": [
    "list(swn.senti_synsets('funny'))[0].obj_score()"
   ]
  },
  {
   "cell_type": "code",
   "execution_count": null,
   "id": "c3fd6108-7d0e-49c1-bbf5-ab0652c533d3",
   "metadata": {},
   "outputs": [],
   "source": [
    "for i in list(swn.senti_synsets('funny')):\n",
    "    print(i)"
   ]
  },
  {
   "cell_type": "code",
   "execution_count": null,
   "id": "9ae94899-3309-456c-8caf-9d6df3ca5a36",
   "metadata": {},
   "outputs": [],
   "source": [
    "from nltk.corpus import wordnet"
   ]
  },
  {
   "cell_type": "code",
   "execution_count": null,
   "id": "2e030668-8a70-4c67-98db-93b2e2298cad",
   "metadata": {},
   "outputs": [],
   "source": [
    "for i in wordnet.synsets('funny'):\n",
    "    print(i,i.definition())"
   ]
  },
  {
   "cell_type": "code",
   "execution_count": null,
   "id": "32582e0c-8e1b-490b-b0ab-db8f95cc1bf3",
   "metadata": {},
   "outputs": [],
   "source": [
    "dfall.loc[0,'Review']"
   ]
  },
  {
   "cell_type": "code",
   "execution_count": null,
   "id": "9ea9e5fe-284e-4a33-905f-a740a524b429",
   "metadata": {},
   "outputs": [],
   "source": [
    "from nltk.tokenize import sent_tokenize, word_tokenize\n",
    "from nltk.corpus import stopwords\n",
    "from string import punctuation\n",
    "myStopWords = list(punctuation) + stopwords.words('english')"
   ]
  },
  {
   "cell_type": "code",
   "execution_count": null,
   "id": "f1d34d60-ad0d-41f8-a6a3-a53d9a6ed69c",
   "metadata": {
    "tags": []
   },
   "outputs": [],
   "source": [
    "[w for w in word_tokenize(dfall.loc[0,'Review'].lower())]"
   ]
  },
  {
   "cell_type": "code",
   "execution_count": null,
   "id": "02bf61c3-e16e-4a62-aba2-b8307bdbc49f",
   "metadata": {
    "tags": []
   },
   "outputs": [],
   "source": [
    "[w for w in word_tokenize(dfall.loc[0,'Review'].lower()) if w not in myStopWords]"
   ]
  },
  {
   "cell_type": "code",
   "execution_count": null,
   "id": "62bd4364-09db-43aa-9236-714e8dbc1ebc",
   "metadata": {},
   "outputs": [],
   "source": [
    "def naiveSentiment(review):\n",
    "    reviewPolarity = 0.0\n",
    "    words = [w for w in word_tokenize(review.lower()) if w not in myStopWords]\n",
    "    for word in words:\n",
    "        sentScore = 0.0\n",
    "        if len(list(swn.senti_synsets(word))) > 0:\n",
    "            for i in list(swn.senti_synsets(word)):\n",
    "                if i.pos_score() > i.neg_score():\n",
    "                    sentScore += i.pos_score()\n",
    "                else:\n",
    "                    sentScore -= i.neg_score()\n",
    "            reviewPolarity += sentScore / len(list(swn.senti_synsets(word)))\n",
    "    \n",
    "    return reviewPolarity"
   ]
  },
  {
   "cell_type": "code",
   "execution_count": null,
   "id": "162b1717-29de-403e-8771-951bef64b9a0",
   "metadata": {},
   "outputs": [],
   "source": [
    "naiveSentiment(dfall.loc[0,'Review'])"
   ]
  },
  {
   "cell_type": "code",
   "execution_count": null,
   "id": "42721eb5-b4ea-48ed-a471-3974faf2e6c8",
   "metadata": {},
   "outputs": [],
   "source": [
    "dfall['naiveSentiment'] = [naiveSentiment(review) for review in dfall['Review']]"
   ]
  },
  {
   "cell_type": "markdown",
   "id": "ce701e91-1ebd-4209-a7e4-4663848d9550",
   "metadata": {},
   "source": [
    "Copy the above runScoring but give an extra variable now"
   ]
  },
  {
   "cell_type": "code",
   "execution_count": null,
   "id": "de60e0b8-ad80-4bfa-9aa5-3172bbe06946",
   "metadata": {},
   "outputs": [],
   "source": [
    "def runScoring(dfall,sentimentMethod):\n",
    "    poscorrect = dfall.loc[(dfall['Polarity']==1) & (dfall[sentimentMethod]>0),'Review'].count()\n",
    "    postotal = dfall.loc[(dfall['Polarity']==1),'Review'].count()\n",
    "\n",
    "    negcorrect = dfall.loc[(dfall['Polarity']==-1) & (dfall[sentimentMethod]<0),'Review'].count()\n",
    "    negtotal = dfall.loc[(dfall['Polarity']==-1),'Review'].count()\n",
    "\n",
    "    total = dfall['Review'].count()\n",
    "\n",
    "    print('The accuracy for Polarity reviews is: ' + str(poscorrect/postotal*100) + '%')\n",
    "    print('The accuracy for negative reviews is: ' + str(negcorrect/negtotal*100) + '%')\n",
    "    print('The overall accuracy is: ' + str((poscorrect+negcorrect)/total*100) + '%')"
   ]
  },
  {
   "cell_type": "code",
   "execution_count": null,
   "id": "b3a143af-5902-4501-b2d2-fafc54dde048",
   "metadata": {},
   "outputs": [],
   "source": [
    "runScoring(dfall, 'VaderSentiment')"
   ]
  },
  {
   "cell_type": "code",
   "execution_count": null,
   "id": "cffb3d15-ee7b-4008-b2c1-4defd629724a",
   "metadata": {},
   "outputs": [],
   "source": [
    "runScoring(dfall, 'naiveSentiment')"
   ]
  },
  {
   "cell_type": "code",
   "execution_count": null,
   "id": "48a80bcc-1ac2-462d-a61f-5a8f8afa8c38",
   "metadata": {},
   "outputs": [],
   "source": [
    "dfall.loc[dfall['Polarity']==1, 'naiveSentiment'].hist()"
   ]
  },
  {
   "cell_type": "code",
   "execution_count": null,
   "id": "e8d03c09-c33c-44c5-b116-1f84affa20d5",
   "metadata": {},
   "outputs": [],
   "source": [
    "dfall.loc[dfall['Polarity']==-1, 'naiveSentiment'].hist()"
   ]
  },
  {
   "cell_type": "code",
   "execution_count": null,
   "id": "b7be3ccf-5ec5-4f50-aaf7-7123ea18ce57",
   "metadata": {},
   "outputs": [],
   "source": [
    "getSentiment('this restaurant is lousy')"
   ]
  },
  {
   "cell_type": "code",
   "execution_count": null,
   "id": "4e6bd98b-3ab9-40aa-b703-d442e53524cf",
   "metadata": {},
   "outputs": [],
   "source": [
    "getSentiment('this restaurant is not lousy')"
   ]
  },
  {
   "cell_type": "code",
   "execution_count": null,
   "id": "6f97e631-cd96-43a1-9bdf-541c66c42cba",
   "metadata": {},
   "outputs": [],
   "source": [
    "naiveSentiment('this restaurant is lousy')"
   ]
  },
  {
   "cell_type": "code",
   "execution_count": null,
   "id": "7d0a4450-7b62-42fc-8a29-f1c66058cd31",
   "metadata": {},
   "outputs": [],
   "source": [
    "naiveSentiment('this restaurant is not lousy')"
   ]
  },
  {
   "cell_type": "code",
   "execution_count": null,
   "id": "8d3b15a3-0405-49be-a122-64ce734d9654",
   "metadata": {},
   "outputs": [],
   "source": [
    "print(myStopWords)"
   ]
  },
  {
   "cell_type": "markdown",
   "id": "51b6b837-90ab-4d7f-91cd-da9ce52a4f15",
   "metadata": {},
   "source": [
    "## Classify with Naive Bayes Classifier"
   ]
  },
  {
   "cell_type": "code",
   "execution_count": null,
   "id": "06123ee8-6ef8-4067-be30-f8bb528132f3",
   "metadata": {},
   "outputs": [],
   "source": [
    "dfall"
   ]
  },
  {
   "cell_type": "code",
   "execution_count": null,
   "id": "8881bb85-91b3-41af-bb48-2c6c2f5c8c62",
   "metadata": {},
   "outputs": [],
   "source": [
    "trainNum = 2000\n",
    "testNum = 5331 - trainNum\n",
    "\n",
    "trainPosReviews = dfall.loc[dfall['Polarity']==1][:trainNum]\n",
    "testPosReviews = dfall.loc[dfall['Polarity']==1][trainNum:]\n",
    "\n",
    "trainNegReviews = dfall.loc[dfall['Polarity']==-1][:trainNum]\n",
    "testNegReviews = dfall.loc[dfall['Polarity']==-1][trainNum:]"
   ]
  },
  {
   "cell_type": "code",
   "execution_count": null,
   "id": "b987cc49-d31b-4688-946f-fe76d55031ad",
   "metadata": {
    "tags": []
   },
   "outputs": [],
   "source": [
    "trainPosReviews"
   ]
  },
  {
   "cell_type": "code",
   "execution_count": null,
   "id": "98a50443-8e83-4441-a310-82f23f21d929",
   "metadata": {},
   "outputs": [],
   "source": [
    "posWords = []\n",
    "negWords = []\n",
    "vocab = []\n",
    "for i in trainPosReviews.index:\n",
    "    words = [w for w in word_tokenize(trainPosReviews.loc[i,'Review'].lower()) if w not in myStopWords]\n",
    "    for word in words:\n",
    "        if word not in posWords:\n",
    "            posWords.append(word)\n",
    "        if word not in vocab:\n",
    "            vocab.append(word)\n",
    "for i in trainNegReviews.index:\n",
    "    words = [w for w in word_tokenize(trainNegReviews.loc[i,'Review'].lower()) if w not in myStopWords]\n",
    "    for word in words:\n",
    "        if word not in negWords:\n",
    "            negWords.append(word)\n",
    "        if word not in vocab:\n",
    "            vocab.append(word)\n",
    "    "
   ]
  },
  {
   "cell_type": "code",
   "execution_count": null,
   "id": "4e1701ba-4ac1-4b2a-b736-334755b158f1",
   "metadata": {
    "tags": []
   },
   "outputs": [],
   "source": [
    "vocab"
   ]
  },
  {
   "cell_type": "code",
   "execution_count": null,
   "id": "630f3a83-8046-4fbe-904a-ec3a8151a5ba",
   "metadata": {},
   "outputs": [],
   "source": [
    "def makeFeatureVector(review):\n",
    "    words = [w for w in word_tokenize(review.lower()) if w not in myStopWords]\n",
    "    featureVector = {}\n",
    "    for word in vocab:\n",
    "        if word in words:\n",
    "            featureVector[word] = 1\n",
    "        else:\n",
    "            featureVector[word] = 0\n",
    "    return featureVector"
   ]
  },
  {
   "cell_type": "code",
   "execution_count": null,
   "id": "590f0a1f-231c-45f3-bdfd-28757cef8cf9",
   "metadata": {
    "tags": []
   },
   "outputs": [],
   "source": [
    "makeFeatureVector('This is my favorite movie')"
   ]
  },
  {
   "cell_type": "code",
   "execution_count": null,
   "id": "f2cde1c8-5443-448e-aa65-40de4f11a33c",
   "metadata": {},
   "outputs": [],
   "source": [
    "trainingData = []\n",
    "for i in trainPosReviews.index:\n",
    "    trainingData.append((trainPosReviews.loc[i,'Review'],trainPosReviews.loc[i,'Polarity']))\n",
    "for i in trainNegReviews.index:\n",
    "    trainingData.append((trainNegReviews.loc[i,'Review'],trainNegReviews.loc[i,'Polarity']))"
   ]
  },
  {
   "cell_type": "code",
   "execution_count": null,
   "id": "c9620c48-13d6-44db-bed4-f411fe0c9b06",
   "metadata": {},
   "outputs": [],
   "source": [
    "trainingData[:5]"
   ]
  },
  {
   "cell_type": "code",
   "execution_count": null,
   "id": "23eb4bfc-313d-4153-82f9-ff2624b5ac79",
   "metadata": {},
   "outputs": [],
   "source": [
    "trainingData[2500]"
   ]
  },
  {
   "cell_type": "code",
   "execution_count": null,
   "id": "1d29d867-6c3e-4e36-bba5-f1c965129737",
   "metadata": {},
   "outputs": [],
   "source": [
    "trainingFeatureVectors = nltk.classify.apply_features(makeFeatureVector, trainingData)"
   ]
  },
  {
   "cell_type": "code",
   "execution_count": null,
   "id": "3d69ed35-6518-490e-ab78-bd147fb0e131",
   "metadata": {
    "tags": []
   },
   "outputs": [],
   "source": [
    "trainingFeatureVectors[0]"
   ]
  },
  {
   "cell_type": "code",
   "execution_count": null,
   "id": "85485af7-d0ee-47d8-a20b-cdf82d356756",
   "metadata": {},
   "outputs": [],
   "source": [
    "trainedClassifier = nltk.NaiveBayesClassifier.train(trainingFeatureVectors)"
   ]
  },
  {
   "cell_type": "code",
   "execution_count": null,
   "id": "9457f2b4-83e8-4c1f-9cd8-fd4094a06fbd",
   "metadata": {},
   "outputs": [],
   "source": [
    "def naiveBayesSentimentCalculator(review):\n",
    "    problemFeatureVector = makeFeatureVector(review)\n",
    "    return trainedClassifier.classify(problemFeatureVector)"
   ]
  },
  {
   "cell_type": "code",
   "execution_count": null,
   "id": "a08eace4-0a93-400e-8be9-c51c9fd8196a",
   "metadata": {},
   "outputs": [],
   "source": [
    "naiveBayesSentimentCalculator(\"What an awesome movie\")"
   ]
  },
  {
   "cell_type": "code",
   "execution_count": null,
   "id": "6a4f4aef-c8d4-4074-a2fe-5f711f4d96fe",
   "metadata": {},
   "outputs": [],
   "source": [
    "naiveBayesSentimentCalculator(\"What a terrible movie\")"
   ]
  },
  {
   "cell_type": "code",
   "execution_count": null,
   "id": "281458c6-6a2b-4627-b431-d74354bbea76",
   "metadata": {},
   "outputs": [],
   "source": [
    "testPosReviews['naiveBayesSentiment'] = [naiveBayesSentimentCalculator(review) for review in testPosReviews['Review']]\n",
    "testNegReviews['naiveBayesSentiment'] = [naiveBayesSentimentCalculator(review) for review in testNegReviews['Review']]"
   ]
  },
  {
   "cell_type": "markdown",
   "id": "9880e6f7-dca1-40c1-a913-0e5b8fb76b68",
   "metadata": {},
   "source": [
    "Copy the above runScoring but give an extra variable now"
   ]
  },
  {
   "cell_type": "code",
   "execution_count": null,
   "id": "e6a58b6d-7d2e-4368-94e5-e4de3cfa1d8b",
   "metadata": {},
   "outputs": [],
   "source": [
    "def runScoringNB():\n",
    "    poscorrect = testPosReviews.loc[(testPosReviews['Polarity']==1) & (testPosReviews['naiveBayesSentiment']==1),'Review'].count()\n",
    "    postotal = testPosReviews.loc[(testPosReviews['Polarity']==1),'Review'].count()\n",
    "\n",
    "    negcorrect = testNegReviews.loc[(testNegReviews['Polarity']==-1) & (testNegReviews['naiveBayesSentiment']==-1),'Review'].count()\n",
    "    negtotal = testNegReviews.loc[(testNegReviews['Polarity']==-1),'Review'].count()\n",
    "\n",
    "    total = testPosReviews['Review'].count() + testNegReviews['Review'].count()\n",
    "\n",
    "    print('The accuracy for Polarity reviews is: ' + str(poscorrect/postotal*100) + '%')\n",
    "    print('The accuracy for negative reviews is: ' + str(negcorrect/negtotal*100) + '%')\n",
    "    print('The overall accuracy is: ' + str((poscorrect+negcorrect)/total*100) + '%')"
   ]
  },
  {
   "cell_type": "code",
   "execution_count": null,
   "id": "d46d7887-fa9f-4357-8540-3126f79d4d14",
   "metadata": {},
   "outputs": [],
   "source": [
    "runScoring(dfall, 'VaderSentiment')\n",
    "runScoring(dfall, 'naiveSentiment')\n",
    "runScoringNB()"
   ]
  }
 ],
 "metadata": {
  "kernelspec": {
   "display_name": "Python 3 (ipykernel)",
   "language": "python",
   "name": "python3"
  },
  "language_info": {
   "codemirror_mode": {
    "name": "ipython",
    "version": 3
   },
   "file_extension": ".py",
   "mimetype": "text/x-python",
   "name": "python",
   "nbconvert_exporter": "python",
   "pygments_lexer": "ipython3",
   "version": "3.9.6"
  }
 },
 "nbformat": 4,
 "nbformat_minor": 5
}
